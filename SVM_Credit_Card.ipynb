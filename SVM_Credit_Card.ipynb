{
  "nbformat": 4,
  "nbformat_minor": 0,
  "metadata": {
    "anaconda-cloud": {},
    "kernelspec": {
      "display_name": "Python 3",
      "language": "python",
      "name": "python3"
    },
    "language_info": {
      "codemirror_mode": {
        "name": "ipython",
        "version": 3
      },
      "file_extension": ".py",
      "mimetype": "text/x-python",
      "name": "python",
      "nbconvert_exporter": "python",
      "pygments_lexer": "ipython3",
      "version": "3.8.5"
    },
    "colab": {
      "name": "SVM_Credit_Card.ipynb",
      "provenance": [],
      "collapsed_sections": [],
      "toc_visible": true
    }
  },
  "cells": [
    {
      "cell_type": "markdown",
      "metadata": {
        "id": "ste9lRaGH14p"
      },
      "source": [
        "# **SVM**\n",
        "\n",
        "In this the SVM algorithm is applied on the credit card fraud dataset."
      ]
    },
    {
      "cell_type": "markdown",
      "metadata": {
        "id": "iiFnQSbEP7Ih"
      },
      "source": [
        "# **Importing the libraries**"
      ]
    },
    {
      "cell_type": "code",
      "metadata": {
        "_cell_guid": "95f30dd3-7b08-4087-b156-5bf3250ce742",
        "_uuid": "dc31e50ac68836610ff16246bbda63d7ae6db49b",
        "collapsed": true,
        "id": "vfwj8kAvtYTU"
      },
      "source": [
        "import pandas as pd \n",
        "import numpy as np\n",
        "from sklearn import preprocessing\n",
        "from sklearn.metrics import confusion_matrix\n",
        "from sklearn import svm\n",
        "import itertools\n",
        "import matplotlib.pyplot as plt\n",
        "import matplotlib.mlab as mlab\n",
        "import seaborn\n",
        "%matplotlib inline"
      ],
      "execution_count": null,
      "outputs": []
    },
    {
      "cell_type": "code",
      "metadata": {
        "colab": {
          "base_uri": "https://localhost:8080/"
        },
        "id": "A8x3EA5suRtY",
        "outputId": "33eb1d90-12f7-40d8-c3ce-be9b83b276d4"
      },
      "source": [
        "from google.colab import drive\n",
        "drive.mount('/content/drive')"
      ],
      "execution_count": null,
      "outputs": [
        {
          "output_type": "stream",
          "text": [
            "Drive already mounted at /content/drive; to attempt to forcibly remount, call drive.mount(\"/content/drive\", force_remount=True).\n"
          ],
          "name": "stdout"
        }
      ]
    },
    {
      "cell_type": "markdown",
      "metadata": {
        "_cell_guid": "4c375090-4893-4b92-ad94-abb3fbc60e22",
        "_uuid": "504f7342684d5bb9d64acbd7f48c89c2846e69a9",
        "id": "glQIrNvUtYTb"
      },
      "source": [
        "# **Data loading** "
      ]
    },
    {
      "cell_type": "code",
      "metadata": {
        "_cell_guid": "b3cd20ab-f13e-4083-9c36-9291414694c2",
        "_uuid": "232bc475856a4f5e92083e1757242020100ee284",
        "collapsed": true,
        "id": "D1BCbOQJtYTe"
      },
      "source": [
        "data = pd.read_csv('drive/MyDrive/creditcard.csv')\n",
        "df = pd.DataFrame(data)                                          "
      ],
      "execution_count": null,
      "outputs": []
    },
    {
      "cell_type": "markdown",
      "metadata": {
        "_cell_guid": "ae7d0f5e-f323-46f6-a454-a2a8065af693",
        "_uuid": "dda60fcd5cb9953205c5ae716fcdf7cd5682f9eb",
        "id": "ILnbr3OAtYTg"
      },
      "source": [
        "# **Visualising the data**"
      ]
    },
    {
      "cell_type": "code",
      "metadata": {
        "colab": {
          "base_uri": "https://localhost:8080/",
          "height": 222
        },
        "id": "dho1K9HVRZRT",
        "outputId": "33e0ded1-3564-4a12-bf5e-00af47b74d14"
      },
      "source": [
        "df.head()"
      ],
      "execution_count": null,
      "outputs": [
        {
          "output_type": "execute_result",
          "data": {
            "text/html": [
              "<div>\n",
              "<style scoped>\n",
              "    .dataframe tbody tr th:only-of-type {\n",
              "        vertical-align: middle;\n",
              "    }\n",
              "\n",
              "    .dataframe tbody tr th {\n",
              "        vertical-align: top;\n",
              "    }\n",
              "\n",
              "    .dataframe thead th {\n",
              "        text-align: right;\n",
              "    }\n",
              "</style>\n",
              "<table border=\"1\" class=\"dataframe\">\n",
              "  <thead>\n",
              "    <tr style=\"text-align: right;\">\n",
              "      <th></th>\n",
              "      <th>Time</th>\n",
              "      <th>V1</th>\n",
              "      <th>V2</th>\n",
              "      <th>V3</th>\n",
              "      <th>V4</th>\n",
              "      <th>V5</th>\n",
              "      <th>V6</th>\n",
              "      <th>V7</th>\n",
              "      <th>V8</th>\n",
              "      <th>V9</th>\n",
              "      <th>V10</th>\n",
              "      <th>V11</th>\n",
              "      <th>V12</th>\n",
              "      <th>V13</th>\n",
              "      <th>V14</th>\n",
              "      <th>V15</th>\n",
              "      <th>V16</th>\n",
              "      <th>V17</th>\n",
              "      <th>V18</th>\n",
              "      <th>V19</th>\n",
              "      <th>V20</th>\n",
              "      <th>V21</th>\n",
              "      <th>V22</th>\n",
              "      <th>V23</th>\n",
              "      <th>V24</th>\n",
              "      <th>V25</th>\n",
              "      <th>V26</th>\n",
              "      <th>V27</th>\n",
              "      <th>V28</th>\n",
              "      <th>Amount</th>\n",
              "      <th>Class</th>\n",
              "    </tr>\n",
              "  </thead>\n",
              "  <tbody>\n",
              "    <tr>\n",
              "      <th>0</th>\n",
              "      <td>0.0</td>\n",
              "      <td>-1.359807</td>\n",
              "      <td>-0.072781</td>\n",
              "      <td>2.536347</td>\n",
              "      <td>1.378155</td>\n",
              "      <td>-0.338321</td>\n",
              "      <td>0.462388</td>\n",
              "      <td>0.239599</td>\n",
              "      <td>0.098698</td>\n",
              "      <td>0.363787</td>\n",
              "      <td>0.090794</td>\n",
              "      <td>-0.551600</td>\n",
              "      <td>-0.617801</td>\n",
              "      <td>-0.991390</td>\n",
              "      <td>-0.311169</td>\n",
              "      <td>1.468177</td>\n",
              "      <td>-0.470401</td>\n",
              "      <td>0.207971</td>\n",
              "      <td>0.025791</td>\n",
              "      <td>0.403993</td>\n",
              "      <td>0.251412</td>\n",
              "      <td>-0.018307</td>\n",
              "      <td>0.277838</td>\n",
              "      <td>-0.110474</td>\n",
              "      <td>0.066928</td>\n",
              "      <td>0.128539</td>\n",
              "      <td>-0.189115</td>\n",
              "      <td>0.133558</td>\n",
              "      <td>-0.021053</td>\n",
              "      <td>149.62</td>\n",
              "      <td>0</td>\n",
              "    </tr>\n",
              "    <tr>\n",
              "      <th>1</th>\n",
              "      <td>0.0</td>\n",
              "      <td>1.191857</td>\n",
              "      <td>0.266151</td>\n",
              "      <td>0.166480</td>\n",
              "      <td>0.448154</td>\n",
              "      <td>0.060018</td>\n",
              "      <td>-0.082361</td>\n",
              "      <td>-0.078803</td>\n",
              "      <td>0.085102</td>\n",
              "      <td>-0.255425</td>\n",
              "      <td>-0.166974</td>\n",
              "      <td>1.612727</td>\n",
              "      <td>1.065235</td>\n",
              "      <td>0.489095</td>\n",
              "      <td>-0.143772</td>\n",
              "      <td>0.635558</td>\n",
              "      <td>0.463917</td>\n",
              "      <td>-0.114805</td>\n",
              "      <td>-0.183361</td>\n",
              "      <td>-0.145783</td>\n",
              "      <td>-0.069083</td>\n",
              "      <td>-0.225775</td>\n",
              "      <td>-0.638672</td>\n",
              "      <td>0.101288</td>\n",
              "      <td>-0.339846</td>\n",
              "      <td>0.167170</td>\n",
              "      <td>0.125895</td>\n",
              "      <td>-0.008983</td>\n",
              "      <td>0.014724</td>\n",
              "      <td>2.69</td>\n",
              "      <td>0</td>\n",
              "    </tr>\n",
              "    <tr>\n",
              "      <th>2</th>\n",
              "      <td>1.0</td>\n",
              "      <td>-1.358354</td>\n",
              "      <td>-1.340163</td>\n",
              "      <td>1.773209</td>\n",
              "      <td>0.379780</td>\n",
              "      <td>-0.503198</td>\n",
              "      <td>1.800499</td>\n",
              "      <td>0.791461</td>\n",
              "      <td>0.247676</td>\n",
              "      <td>-1.514654</td>\n",
              "      <td>0.207643</td>\n",
              "      <td>0.624501</td>\n",
              "      <td>0.066084</td>\n",
              "      <td>0.717293</td>\n",
              "      <td>-0.165946</td>\n",
              "      <td>2.345865</td>\n",
              "      <td>-2.890083</td>\n",
              "      <td>1.109969</td>\n",
              "      <td>-0.121359</td>\n",
              "      <td>-2.261857</td>\n",
              "      <td>0.524980</td>\n",
              "      <td>0.247998</td>\n",
              "      <td>0.771679</td>\n",
              "      <td>0.909412</td>\n",
              "      <td>-0.689281</td>\n",
              "      <td>-0.327642</td>\n",
              "      <td>-0.139097</td>\n",
              "      <td>-0.055353</td>\n",
              "      <td>-0.059752</td>\n",
              "      <td>378.66</td>\n",
              "      <td>0</td>\n",
              "    </tr>\n",
              "    <tr>\n",
              "      <th>3</th>\n",
              "      <td>1.0</td>\n",
              "      <td>-0.966272</td>\n",
              "      <td>-0.185226</td>\n",
              "      <td>1.792993</td>\n",
              "      <td>-0.863291</td>\n",
              "      <td>-0.010309</td>\n",
              "      <td>1.247203</td>\n",
              "      <td>0.237609</td>\n",
              "      <td>0.377436</td>\n",
              "      <td>-1.387024</td>\n",
              "      <td>-0.054952</td>\n",
              "      <td>-0.226487</td>\n",
              "      <td>0.178228</td>\n",
              "      <td>0.507757</td>\n",
              "      <td>-0.287924</td>\n",
              "      <td>-0.631418</td>\n",
              "      <td>-1.059647</td>\n",
              "      <td>-0.684093</td>\n",
              "      <td>1.965775</td>\n",
              "      <td>-1.232622</td>\n",
              "      <td>-0.208038</td>\n",
              "      <td>-0.108300</td>\n",
              "      <td>0.005274</td>\n",
              "      <td>-0.190321</td>\n",
              "      <td>-1.175575</td>\n",
              "      <td>0.647376</td>\n",
              "      <td>-0.221929</td>\n",
              "      <td>0.062723</td>\n",
              "      <td>0.061458</td>\n",
              "      <td>123.50</td>\n",
              "      <td>0</td>\n",
              "    </tr>\n",
              "    <tr>\n",
              "      <th>4</th>\n",
              "      <td>2.0</td>\n",
              "      <td>-1.158233</td>\n",
              "      <td>0.877737</td>\n",
              "      <td>1.548718</td>\n",
              "      <td>0.403034</td>\n",
              "      <td>-0.407193</td>\n",
              "      <td>0.095921</td>\n",
              "      <td>0.592941</td>\n",
              "      <td>-0.270533</td>\n",
              "      <td>0.817739</td>\n",
              "      <td>0.753074</td>\n",
              "      <td>-0.822843</td>\n",
              "      <td>0.538196</td>\n",
              "      <td>1.345852</td>\n",
              "      <td>-1.119670</td>\n",
              "      <td>0.175121</td>\n",
              "      <td>-0.451449</td>\n",
              "      <td>-0.237033</td>\n",
              "      <td>-0.038195</td>\n",
              "      <td>0.803487</td>\n",
              "      <td>0.408542</td>\n",
              "      <td>-0.009431</td>\n",
              "      <td>0.798278</td>\n",
              "      <td>-0.137458</td>\n",
              "      <td>0.141267</td>\n",
              "      <td>-0.206010</td>\n",
              "      <td>0.502292</td>\n",
              "      <td>0.219422</td>\n",
              "      <td>0.215153</td>\n",
              "      <td>69.99</td>\n",
              "      <td>0</td>\n",
              "    </tr>\n",
              "  </tbody>\n",
              "</table>\n",
              "</div>"
            ],
            "text/plain": [
              "   Time        V1        V2        V3  ...       V27       V28  Amount  Class\n",
              "0   0.0 -1.359807 -0.072781  2.536347  ...  0.133558 -0.021053  149.62      0\n",
              "1   0.0  1.191857  0.266151  0.166480  ... -0.008983  0.014724    2.69      0\n",
              "2   1.0 -1.358354 -1.340163  1.773209  ... -0.055353 -0.059752  378.66      0\n",
              "3   1.0 -0.966272 -0.185226  1.792993  ...  0.062723  0.061458  123.50      0\n",
              "4   2.0 -1.158233  0.877737  1.548718  ...  0.219422  0.215153   69.99      0\n",
              "\n",
              "[5 rows x 31 columns]"
            ]
          },
          "metadata": {
            "tags": []
          },
          "execution_count": 4
        }
      ]
    },
    {
      "cell_type": "code",
      "metadata": {
        "colab": {
          "base_uri": "https://localhost:8080/"
        },
        "id": "Fa-uBSkZwNN1",
        "outputId": "b83c26e6-a728-461e-dd9c-b6f84e3dfe94"
      },
      "source": [
        "df.info()"
      ],
      "execution_count": null,
      "outputs": [
        {
          "output_type": "stream",
          "text": [
            "<class 'pandas.core.frame.DataFrame'>\n",
            "RangeIndex: 284807 entries, 0 to 284806\n",
            "Data columns (total 31 columns):\n",
            " #   Column  Non-Null Count   Dtype  \n",
            "---  ------  --------------   -----  \n",
            " 0   Time    284807 non-null  float64\n",
            " 1   V1      284807 non-null  float64\n",
            " 2   V2      284807 non-null  float64\n",
            " 3   V3      284807 non-null  float64\n",
            " 4   V4      284807 non-null  float64\n",
            " 5   V5      284807 non-null  float64\n",
            " 6   V6      284807 non-null  float64\n",
            " 7   V7      284807 non-null  float64\n",
            " 8   V8      284807 non-null  float64\n",
            " 9   V9      284807 non-null  float64\n",
            " 10  V10     284807 non-null  float64\n",
            " 11  V11     284807 non-null  float64\n",
            " 12  V12     284807 non-null  float64\n",
            " 13  V13     284807 non-null  float64\n",
            " 14  V14     284807 non-null  float64\n",
            " 15  V15     284807 non-null  float64\n",
            " 16  V16     284807 non-null  float64\n",
            " 17  V17     284807 non-null  float64\n",
            " 18  V18     284807 non-null  float64\n",
            " 19  V19     284807 non-null  float64\n",
            " 20  V20     284807 non-null  float64\n",
            " 21  V21     284807 non-null  float64\n",
            " 22  V22     284807 non-null  float64\n",
            " 23  V23     284807 non-null  float64\n",
            " 24  V24     284807 non-null  float64\n",
            " 25  V25     284807 non-null  float64\n",
            " 26  V26     284807 non-null  float64\n",
            " 27  V27     284807 non-null  float64\n",
            " 28  V28     284807 non-null  float64\n",
            " 29  Amount  284807 non-null  float64\n",
            " 30  Class   284807 non-null  int64  \n",
            "dtypes: float64(30), int64(1)\n",
            "memory usage: 67.4 MB\n"
          ],
          "name": "stdout"
        }
      ]
    },
    {
      "cell_type": "code",
      "metadata": {
        "_cell_guid": "6aade7ce-2b87-4cd0-a998-3a54ac14d4df",
        "_uuid": "4eafc2bb6228637b51ba4e1c97ded7456440cd0f",
        "colab": {
          "base_uri": "https://localhost:8080/",
          "height": 314
        },
        "id": "KOyaZS_WtYTi",
        "outputId": "ff3b7333-08c2-49ee-b348-d10f5b583ffe"
      },
      "source": [
        "df.describe() "
      ],
      "execution_count": null,
      "outputs": [
        {
          "output_type": "execute_result",
          "data": {
            "text/html": [
              "<div>\n",
              "<style scoped>\n",
              "    .dataframe tbody tr th:only-of-type {\n",
              "        vertical-align: middle;\n",
              "    }\n",
              "\n",
              "    .dataframe tbody tr th {\n",
              "        vertical-align: top;\n",
              "    }\n",
              "\n",
              "    .dataframe thead th {\n",
              "        text-align: right;\n",
              "    }\n",
              "</style>\n",
              "<table border=\"1\" class=\"dataframe\">\n",
              "  <thead>\n",
              "    <tr style=\"text-align: right;\">\n",
              "      <th></th>\n",
              "      <th>Time</th>\n",
              "      <th>V1</th>\n",
              "      <th>V2</th>\n",
              "      <th>V3</th>\n",
              "      <th>V4</th>\n",
              "      <th>V5</th>\n",
              "      <th>V6</th>\n",
              "      <th>V7</th>\n",
              "      <th>V8</th>\n",
              "      <th>V9</th>\n",
              "      <th>V10</th>\n",
              "      <th>V11</th>\n",
              "      <th>V12</th>\n",
              "      <th>V13</th>\n",
              "      <th>V14</th>\n",
              "      <th>V15</th>\n",
              "      <th>V16</th>\n",
              "      <th>V17</th>\n",
              "      <th>V18</th>\n",
              "      <th>V19</th>\n",
              "      <th>V20</th>\n",
              "      <th>V21</th>\n",
              "      <th>V22</th>\n",
              "      <th>V23</th>\n",
              "      <th>V24</th>\n",
              "      <th>V25</th>\n",
              "      <th>V26</th>\n",
              "      <th>V27</th>\n",
              "      <th>V28</th>\n",
              "      <th>Amount</th>\n",
              "      <th>Class</th>\n",
              "    </tr>\n",
              "  </thead>\n",
              "  <tbody>\n",
              "    <tr>\n",
              "      <th>count</th>\n",
              "      <td>284807.000000</td>\n",
              "      <td>2.848070e+05</td>\n",
              "      <td>2.848070e+05</td>\n",
              "      <td>2.848070e+05</td>\n",
              "      <td>2.848070e+05</td>\n",
              "      <td>2.848070e+05</td>\n",
              "      <td>2.848070e+05</td>\n",
              "      <td>2.848070e+05</td>\n",
              "      <td>2.848070e+05</td>\n",
              "      <td>2.848070e+05</td>\n",
              "      <td>2.848070e+05</td>\n",
              "      <td>2.848070e+05</td>\n",
              "      <td>2.848070e+05</td>\n",
              "      <td>2.848070e+05</td>\n",
              "      <td>2.848070e+05</td>\n",
              "      <td>2.848070e+05</td>\n",
              "      <td>2.848070e+05</td>\n",
              "      <td>2.848070e+05</td>\n",
              "      <td>2.848070e+05</td>\n",
              "      <td>2.848070e+05</td>\n",
              "      <td>2.848070e+05</td>\n",
              "      <td>2.848070e+05</td>\n",
              "      <td>2.848070e+05</td>\n",
              "      <td>2.848070e+05</td>\n",
              "      <td>2.848070e+05</td>\n",
              "      <td>2.848070e+05</td>\n",
              "      <td>2.848070e+05</td>\n",
              "      <td>2.848070e+05</td>\n",
              "      <td>2.848070e+05</td>\n",
              "      <td>284807.000000</td>\n",
              "      <td>284807.000000</td>\n",
              "    </tr>\n",
              "    <tr>\n",
              "      <th>mean</th>\n",
              "      <td>94813.859575</td>\n",
              "      <td>3.919560e-15</td>\n",
              "      <td>5.688174e-16</td>\n",
              "      <td>-8.769071e-15</td>\n",
              "      <td>2.782312e-15</td>\n",
              "      <td>-1.552563e-15</td>\n",
              "      <td>2.010663e-15</td>\n",
              "      <td>-1.694249e-15</td>\n",
              "      <td>-1.927028e-16</td>\n",
              "      <td>-3.137024e-15</td>\n",
              "      <td>1.768627e-15</td>\n",
              "      <td>9.170318e-16</td>\n",
              "      <td>-1.810658e-15</td>\n",
              "      <td>1.693438e-15</td>\n",
              "      <td>1.479045e-15</td>\n",
              "      <td>3.482336e-15</td>\n",
              "      <td>1.392007e-15</td>\n",
              "      <td>-7.528491e-16</td>\n",
              "      <td>4.328772e-16</td>\n",
              "      <td>9.049732e-16</td>\n",
              "      <td>5.085503e-16</td>\n",
              "      <td>1.537294e-16</td>\n",
              "      <td>7.959909e-16</td>\n",
              "      <td>5.367590e-16</td>\n",
              "      <td>4.458112e-15</td>\n",
              "      <td>1.453003e-15</td>\n",
              "      <td>1.699104e-15</td>\n",
              "      <td>-3.660161e-16</td>\n",
              "      <td>-1.206049e-16</td>\n",
              "      <td>88.349619</td>\n",
              "      <td>0.001727</td>\n",
              "    </tr>\n",
              "    <tr>\n",
              "      <th>std</th>\n",
              "      <td>47488.145955</td>\n",
              "      <td>1.958696e+00</td>\n",
              "      <td>1.651309e+00</td>\n",
              "      <td>1.516255e+00</td>\n",
              "      <td>1.415869e+00</td>\n",
              "      <td>1.380247e+00</td>\n",
              "      <td>1.332271e+00</td>\n",
              "      <td>1.237094e+00</td>\n",
              "      <td>1.194353e+00</td>\n",
              "      <td>1.098632e+00</td>\n",
              "      <td>1.088850e+00</td>\n",
              "      <td>1.020713e+00</td>\n",
              "      <td>9.992014e-01</td>\n",
              "      <td>9.952742e-01</td>\n",
              "      <td>9.585956e-01</td>\n",
              "      <td>9.153160e-01</td>\n",
              "      <td>8.762529e-01</td>\n",
              "      <td>8.493371e-01</td>\n",
              "      <td>8.381762e-01</td>\n",
              "      <td>8.140405e-01</td>\n",
              "      <td>7.709250e-01</td>\n",
              "      <td>7.345240e-01</td>\n",
              "      <td>7.257016e-01</td>\n",
              "      <td>6.244603e-01</td>\n",
              "      <td>6.056471e-01</td>\n",
              "      <td>5.212781e-01</td>\n",
              "      <td>4.822270e-01</td>\n",
              "      <td>4.036325e-01</td>\n",
              "      <td>3.300833e-01</td>\n",
              "      <td>250.120109</td>\n",
              "      <td>0.041527</td>\n",
              "    </tr>\n",
              "    <tr>\n",
              "      <th>min</th>\n",
              "      <td>0.000000</td>\n",
              "      <td>-5.640751e+01</td>\n",
              "      <td>-7.271573e+01</td>\n",
              "      <td>-4.832559e+01</td>\n",
              "      <td>-5.683171e+00</td>\n",
              "      <td>-1.137433e+02</td>\n",
              "      <td>-2.616051e+01</td>\n",
              "      <td>-4.355724e+01</td>\n",
              "      <td>-7.321672e+01</td>\n",
              "      <td>-1.343407e+01</td>\n",
              "      <td>-2.458826e+01</td>\n",
              "      <td>-4.797473e+00</td>\n",
              "      <td>-1.868371e+01</td>\n",
              "      <td>-5.791881e+00</td>\n",
              "      <td>-1.921433e+01</td>\n",
              "      <td>-4.498945e+00</td>\n",
              "      <td>-1.412985e+01</td>\n",
              "      <td>-2.516280e+01</td>\n",
              "      <td>-9.498746e+00</td>\n",
              "      <td>-7.213527e+00</td>\n",
              "      <td>-5.449772e+01</td>\n",
              "      <td>-3.483038e+01</td>\n",
              "      <td>-1.093314e+01</td>\n",
              "      <td>-4.480774e+01</td>\n",
              "      <td>-2.836627e+00</td>\n",
              "      <td>-1.029540e+01</td>\n",
              "      <td>-2.604551e+00</td>\n",
              "      <td>-2.256568e+01</td>\n",
              "      <td>-1.543008e+01</td>\n",
              "      <td>0.000000</td>\n",
              "      <td>0.000000</td>\n",
              "    </tr>\n",
              "    <tr>\n",
              "      <th>25%</th>\n",
              "      <td>54201.500000</td>\n",
              "      <td>-9.203734e-01</td>\n",
              "      <td>-5.985499e-01</td>\n",
              "      <td>-8.903648e-01</td>\n",
              "      <td>-8.486401e-01</td>\n",
              "      <td>-6.915971e-01</td>\n",
              "      <td>-7.682956e-01</td>\n",
              "      <td>-5.540759e-01</td>\n",
              "      <td>-2.086297e-01</td>\n",
              "      <td>-6.430976e-01</td>\n",
              "      <td>-5.354257e-01</td>\n",
              "      <td>-7.624942e-01</td>\n",
              "      <td>-4.055715e-01</td>\n",
              "      <td>-6.485393e-01</td>\n",
              "      <td>-4.255740e-01</td>\n",
              "      <td>-5.828843e-01</td>\n",
              "      <td>-4.680368e-01</td>\n",
              "      <td>-4.837483e-01</td>\n",
              "      <td>-4.988498e-01</td>\n",
              "      <td>-4.562989e-01</td>\n",
              "      <td>-2.117214e-01</td>\n",
              "      <td>-2.283949e-01</td>\n",
              "      <td>-5.423504e-01</td>\n",
              "      <td>-1.618463e-01</td>\n",
              "      <td>-3.545861e-01</td>\n",
              "      <td>-3.171451e-01</td>\n",
              "      <td>-3.269839e-01</td>\n",
              "      <td>-7.083953e-02</td>\n",
              "      <td>-5.295979e-02</td>\n",
              "      <td>5.600000</td>\n",
              "      <td>0.000000</td>\n",
              "    </tr>\n",
              "    <tr>\n",
              "      <th>50%</th>\n",
              "      <td>84692.000000</td>\n",
              "      <td>1.810880e-02</td>\n",
              "      <td>6.548556e-02</td>\n",
              "      <td>1.798463e-01</td>\n",
              "      <td>-1.984653e-02</td>\n",
              "      <td>-5.433583e-02</td>\n",
              "      <td>-2.741871e-01</td>\n",
              "      <td>4.010308e-02</td>\n",
              "      <td>2.235804e-02</td>\n",
              "      <td>-5.142873e-02</td>\n",
              "      <td>-9.291738e-02</td>\n",
              "      <td>-3.275735e-02</td>\n",
              "      <td>1.400326e-01</td>\n",
              "      <td>-1.356806e-02</td>\n",
              "      <td>5.060132e-02</td>\n",
              "      <td>4.807155e-02</td>\n",
              "      <td>6.641332e-02</td>\n",
              "      <td>-6.567575e-02</td>\n",
              "      <td>-3.636312e-03</td>\n",
              "      <td>3.734823e-03</td>\n",
              "      <td>-6.248109e-02</td>\n",
              "      <td>-2.945017e-02</td>\n",
              "      <td>6.781943e-03</td>\n",
              "      <td>-1.119293e-02</td>\n",
              "      <td>4.097606e-02</td>\n",
              "      <td>1.659350e-02</td>\n",
              "      <td>-5.213911e-02</td>\n",
              "      <td>1.342146e-03</td>\n",
              "      <td>1.124383e-02</td>\n",
              "      <td>22.000000</td>\n",
              "      <td>0.000000</td>\n",
              "    </tr>\n",
              "    <tr>\n",
              "      <th>75%</th>\n",
              "      <td>139320.500000</td>\n",
              "      <td>1.315642e+00</td>\n",
              "      <td>8.037239e-01</td>\n",
              "      <td>1.027196e+00</td>\n",
              "      <td>7.433413e-01</td>\n",
              "      <td>6.119264e-01</td>\n",
              "      <td>3.985649e-01</td>\n",
              "      <td>5.704361e-01</td>\n",
              "      <td>3.273459e-01</td>\n",
              "      <td>5.971390e-01</td>\n",
              "      <td>4.539234e-01</td>\n",
              "      <td>7.395934e-01</td>\n",
              "      <td>6.182380e-01</td>\n",
              "      <td>6.625050e-01</td>\n",
              "      <td>4.931498e-01</td>\n",
              "      <td>6.488208e-01</td>\n",
              "      <td>5.232963e-01</td>\n",
              "      <td>3.996750e-01</td>\n",
              "      <td>5.008067e-01</td>\n",
              "      <td>4.589494e-01</td>\n",
              "      <td>1.330408e-01</td>\n",
              "      <td>1.863772e-01</td>\n",
              "      <td>5.285536e-01</td>\n",
              "      <td>1.476421e-01</td>\n",
              "      <td>4.395266e-01</td>\n",
              "      <td>3.507156e-01</td>\n",
              "      <td>2.409522e-01</td>\n",
              "      <td>9.104512e-02</td>\n",
              "      <td>7.827995e-02</td>\n",
              "      <td>77.165000</td>\n",
              "      <td>0.000000</td>\n",
              "    </tr>\n",
              "    <tr>\n",
              "      <th>max</th>\n",
              "      <td>172792.000000</td>\n",
              "      <td>2.454930e+00</td>\n",
              "      <td>2.205773e+01</td>\n",
              "      <td>9.382558e+00</td>\n",
              "      <td>1.687534e+01</td>\n",
              "      <td>3.480167e+01</td>\n",
              "      <td>7.330163e+01</td>\n",
              "      <td>1.205895e+02</td>\n",
              "      <td>2.000721e+01</td>\n",
              "      <td>1.559499e+01</td>\n",
              "      <td>2.374514e+01</td>\n",
              "      <td>1.201891e+01</td>\n",
              "      <td>7.848392e+00</td>\n",
              "      <td>7.126883e+00</td>\n",
              "      <td>1.052677e+01</td>\n",
              "      <td>8.877742e+00</td>\n",
              "      <td>1.731511e+01</td>\n",
              "      <td>9.253526e+00</td>\n",
              "      <td>5.041069e+00</td>\n",
              "      <td>5.591971e+00</td>\n",
              "      <td>3.942090e+01</td>\n",
              "      <td>2.720284e+01</td>\n",
              "      <td>1.050309e+01</td>\n",
              "      <td>2.252841e+01</td>\n",
              "      <td>4.584549e+00</td>\n",
              "      <td>7.519589e+00</td>\n",
              "      <td>3.517346e+00</td>\n",
              "      <td>3.161220e+01</td>\n",
              "      <td>3.384781e+01</td>\n",
              "      <td>25691.160000</td>\n",
              "      <td>1.000000</td>\n",
              "    </tr>\n",
              "  </tbody>\n",
              "</table>\n",
              "</div>"
            ],
            "text/plain": [
              "                Time            V1  ...         Amount          Class\n",
              "count  284807.000000  2.848070e+05  ...  284807.000000  284807.000000\n",
              "mean    94813.859575  3.919560e-15  ...      88.349619       0.001727\n",
              "std     47488.145955  1.958696e+00  ...     250.120109       0.041527\n",
              "min         0.000000 -5.640751e+01  ...       0.000000       0.000000\n",
              "25%     54201.500000 -9.203734e-01  ...       5.600000       0.000000\n",
              "50%     84692.000000  1.810880e-02  ...      22.000000       0.000000\n",
              "75%    139320.500000  1.315642e+00  ...      77.165000       0.000000\n",
              "max    172792.000000  2.454930e+00  ...   25691.160000       1.000000\n",
              "\n",
              "[8 rows x 31 columns]"
            ]
          },
          "metadata": {
            "tags": []
          },
          "execution_count": 6
        }
      ]
    },
    {
      "cell_type": "code",
      "metadata": {
        "_cell_guid": "aaf455b3-f3a1-4316-99c6-cbd4c0a8b33d",
        "_uuid": "346c8874f9118fcbcea8f028804179eed54eca69",
        "colab": {
          "base_uri": "https://localhost:8080/",
          "height": 335
        },
        "id": "wJKJs50WtYTl",
        "outputId": "3a1708c9-380b-497f-df02-dbab57e694cf"
      },
      "source": [
        "df_fraud = df[df['Class'] == 1] # Recovery of fraud data\n",
        "plt.figure(figsize=(15,5))\n",
        "plt.scatter(df_fraud['Time'], df_fraud['Amount']) # Display fraud amounts according to their time\n",
        "plt.title('Scratter plot amount fraud')\n",
        "plt.xlabel('Time')\n",
        "plt.ylabel('Amount')\n",
        "plt.xlim([0,175000])\n",
        "plt.ylim([0,2500])\n",
        "plt.show()"
      ],
      "execution_count": null,
      "outputs": [
        {
          "output_type": "display_data",
          "data": {
            "image/png": "[encoded data removed]",
            "text/plain": [
              "<Figure size 1080x360 with 1 Axes>"
            ]
          },
          "metadata": {
            "tags": [],
            "needs_background": "light"
          }
        }
      ]
    },
    {
      "cell_type": "markdown",
      "metadata": {
        "_cell_guid": "970cef6c-01b8-4d61-a3b5-38c3398f9c6f",
        "_uuid": "61c0ec8f7ae47ca9514c2cf3d1e729ba7c528c4e",
        "id": "OJm7LRHetYTm"
      },
      "source": [
        "We notive, first of all, the time doesn't impact the frequency of frauds. Moreover, the majority of frauds are small amounts."
      ]
    },
    {
      "cell_type": "code",
      "metadata": {
        "_cell_guid": "8b77e909-ab26-4783-8005-bf591d66cf5b",
        "_uuid": "9a273b886643735328b0666edf70d12807804fe1",
        "colab": {
          "base_uri": "https://localhost:8080/"
        },
        "id": "ZbZQBuzOtYTo",
        "outputId": "5b3cadc2-6d8e-49fd-f6fd-65694e0f8dc3"
      },
      "source": [
        "nb_big_fraud = df_fraud[df_fraud['Amount'] > 1000].shape[0]                                                     \n",
        "print('There are only {} frauds where the amount was bigger than 1000 over {} frauds'.format(str(nb_big_fraud),str(df_fraud.shape[0]) ))"
      ],
      "execution_count": null,
      "outputs": [
        {
          "output_type": "stream",
          "text": [
            "There are only 9 frauds where the amount was bigger than 1000 over 492 frauds\n"
          ],
          "name": "stdout"
        }
      ]
    },
    {
      "cell_type": "markdown",
      "metadata": {
        "_cell_guid": "43c05bc7-c327-4120-9a4b-9b319457a0b5",
        "_uuid": "c5b9104e688e7bcee494645969a7c8360aff515e",
        "id": "Jf6TETbMtYTp"
      },
      "source": [
        "# **Checking for unbalanced or balanced data**"
      ]
    },
    {
      "cell_type": "code",
      "metadata": {
        "_cell_guid": "02332e68-9fec-48c5-89cd-06ce360f2e9c",
        "_uuid": "bd071ed3ed6dcf625adc45196f615d62cd462ab1",
        "colab": {
          "base_uri": "https://localhost:8080/"
        },
        "id": "JXLe0NVmtYTr",
        "outputId": "a0f594e5-4d8a-4c0c-c5fa-084904b66f6f"
      },
      "source": [
        "number_fraud = len(data[data.Class == 1])\n",
        "number_no_fraud = len(data[data.Class == 0])\n",
        "print('There are only {}  frauds in the original dataset, even though there are {} no frauds in the dataset.'.format(str(number_fraud),str(number_no_fraud)))"
      ],
      "execution_count": null,
      "outputs": [
        {
          "output_type": "stream",
          "text": [
            "There are only 492  frauds in the original dataset, even though there are 284315 no frauds in the dataset.\n"
          ],
          "name": "stdout"
        }
      ]
    },
    {
      "cell_type": "markdown",
      "metadata": {
        "_cell_guid": "a78cfc34-d5a4-45b7-abc1-c70dec7e1c9b",
        "_uuid": "0fa59cb4bb66a0c62d3edb6eb2650d64e19fc113",
        "id": "DKr94Ge8tYTs"
      },
      "source": [
        "We can clearly see that the dataset is unbalanced here . This is because the n(frauds) <<<<<<<< n(no fraud) . Thus , the classifier might take very less or nothing of the no fraud class into the consideration . \n",
        "\n",
        "This must be solved using resampling of the data ."
      ]
    },
    {
      "cell_type": "code",
      "metadata": {
        "_cell_guid": "32763345-e2ac-455b-9265-50bcc304da07",
        "_uuid": "5139011572ad26820d148f408fb3d839899331b5",
        "colab": {
          "base_uri": "https://localhost:8080/"
        },
        "id": "yycvjhVwtYTt",
        "outputId": "0cd603e3-5fe6-4b85-8f9c-29f251672df7"
      },
      "source": [
        "print(\"The accuracy of the classifier then would be : {} which is the number of good classification over the number of tuple to classify\".format(str((284315-492)/284315)))"
      ],
      "execution_count": null,
      "outputs": [
        {
          "output_type": "stream",
          "text": [
            "The accuracy of the classifier then would be : 0.998269524998681 which is the number of good classification over the number of tuple to classify\n"
          ],
          "name": "stdout"
        }
      ]
    },
    {
      "cell_type": "markdown",
      "metadata": {
        "_cell_guid": "527f2804-0aa7-4220-aa9b-03f6b8c0a9fe",
        "_uuid": "8a4df6becaba62481d52118f944612c8c579b8e7",
        "id": "h704cpU9tYTv"
      },
      "source": [
        "This problem can be solved using either the oversampling or the undersampling method.\n",
        "The undersampling principle should be used only if we are sure of the fact that the selected few tuples (non-fraud) completely represents the entire non-fraud class very well .  "
      ]
    },
    {
      "cell_type": "markdown",
      "metadata": {
        "_cell_guid": "934444aa-0a22-4b60-b363-c4af3ab8ffe9",
        "_uuid": "ce9fa83195b843375a102593ee1ece0b9efdad97",
        "id": "wTq4YqFmtYTx"
      },
      "source": [
        "# **Correlation of features**"
      ]
    },
    {
      "cell_type": "code",
      "metadata": {
        "_cell_guid": "a575fa45-aa54-42d8-bc41-7901109b0a30",
        "_uuid": "c79fd2aee5021d4f09523411513e43220bede053",
        "collapsed": true,
        "id": "NFQ-Q1YStYTy"
      },
      "source": [
        "df_corr = df.corr() "
      ],
      "execution_count": null,
      "outputs": []
    },
    {
      "cell_type": "code",
      "metadata": {
        "_cell_guid": "f3fbb40b-c628-45bc-96df-599c83ea1a7f",
        "_uuid": "238eb36a153c7049fef3fd5f4f07f363b4aa92b9",
        "colab": {
          "base_uri": "https://localhost:8080/",
          "height": 361
        },
        "id": "KH54LtFOtYTz",
        "outputId": "fd0113f4-d164-43ac-8e7d-2f644968467a"
      },
      "source": [
        "plt.figure(figsize=(6,5))\n",
        "seaborn.heatmap(df_corr, cmap='Blues') \n",
        "seaborn.set(font_scale=2,style='white')\n",
        "\n",
        "plt.title('Heatmap correlation')\n",
        "plt.show()"
      ],
      "execution_count": null,
      "outputs": [
        {
          "output_type": "display_data",
          "data": {
            "image/png": "[encoded data removed]",
            "text/plain": [
              "<Figure size 432x360 with 2 Axes>"
            ]
          },
          "metadata": {
            "tags": [],
            "needs_background": "light"
          }
        }
      ]
    },
    {
      "cell_type": "markdown",
      "metadata": {
        "_cell_guid": "2ba2b88a-7b27-4033-8e4a-73af650d1c06",
        "_uuid": "d82ba55efd1b473742de899c8dd6b2c3215b70db",
        "id": "szjMTaJstYT2"
      },
      "source": [
        "From the above heat map we can easily conclude that there are very few correlated features in it .\n",
        "This waves or points towards the presence of a PCA being applied on this .  \n",
        "\n",
        "However in this case we were already aware of the fact that a PCA was previously performed. \n",
        "\n",
        "If the dimension reduction is applied effectively then PCA isn't computed in the most effective way. Another way to say this is that no dimensionality reduction should be applied on a dataset on which a PCA was computed correctly."
      ]
    },
    {
      "cell_type": "markdown",
      "metadata": {
        "_cell_guid": "00e91ae9-d53a-40af-a48a-095a4b67dff9",
        "_uuid": "5a154f92f11ecfd72ad4eb2406ead5c24a9d00e3",
        "id": "qxBlHiYktYT4"
      },
      "source": [
        "# **Resampling the data**\n",
        "\n",
        "This can be done in two ways :-"
      ]
    },
    {
      "cell_type": "markdown",
      "metadata": {
        "_cell_guid": "a0432f2f-3926-46a0-ac53-a46cf05bb9c8",
        "_uuid": "ecc0c8cd3849db0cbce7dc35e2ab532d13cc052a",
        "id": "AYVYgfrrtYT5"
      },
      "source": [
        "#### **OVERSAMPLING**"
      ]
    },
    {
      "cell_type": "markdown",
      "metadata": {
        "_cell_guid": "26829a30-0c31-4495-8b16-e96624583a3f",
        "_uuid": "f2b9e864a17a8686b39024341699622a7988d4ff",
        "id": "f04nc4n5tYT6"
      },
      "source": [
        "One way to do oversampling is to replicate the under-represented class tuples until we attain a correct proportion between the class.\n",
        "\n",
        "However as we don't have an infinite amount of time or the patience, we are going to run the classifier with the undersampled training data."
      ]
    },
    {
      "cell_type": "markdown",
      "metadata": {
        "_cell_guid": "e08a9f1e-090b-402d-b5a3-05ece4881a60",
        "_uuid": "e109c99ad8ae57199c62806c2d5cedb3aa481c41",
        "id": "LOCWo-nhtYT8"
      },
      "source": [
        "#### **UNDERSAMPLING**"
      ]
    },
    {
      "cell_type": "code",
      "metadata": {
        "_cell_guid": "679f5dd1-5665-4de2-942b-6ac95ff1a02f",
        "_uuid": "d5b23951407345e6a89ca312967e582c66e11af3",
        "colab": {
          "base_uri": "https://localhost:8080/"
        },
        "id": "SV-3f8S5tYT9",
        "outputId": "1884196a-36ee-42fb-a366-625209547057"
      },
      "source": [
        "df_train_all = df[0:150000] # dividing the dataset into two parts\n",
        "df_train_1 = df_train_all[df_train_all['Class'] == 1] # Fraud\n",
        "df_train_0 = df_train_all[df_train_all['Class'] == 0] # Non Fraud\n",
        "print('In this dataset, we have {} frauds so we need to take a similar number of non-fraud'.format(len(df_train_1)))\n",
        "\n",
        "df_sample=df_train_0.sample(300) # No Fraud\n",
        "df_train = df_train_1.append(df_sample) # We gather the frauds with the no frauds. \n",
        "df_train = df_train.sample(frac=1) # Then we mix our dataset"
      ],
      "execution_count": null,
      "outputs": [
        {
          "output_type": "stream",
          "text": [
            "In this dataset, we have 293 frauds so we need to take a similar number of non-fraud\n"
          ],
          "name": "stdout"
        }
      ]
    },
    {
      "cell_type": "code",
      "metadata": {
        "_cell_guid": "36f77663-2b2a-412f-a759-0fd3a0bf06ab",
        "_uuid": "d9707da7dc04b2a415608f2833dd5d732dd98925",
        "collapsed": true,
        "id": "pnJEcy8RtYT-"
      },
      "source": [
        "X_train = df_train.drop(['Time', 'Class'],axis=1) # We drop the features which are useless like Time ,the labels \n",
        "y_train = df_train['Class'] # Creating a target class\n",
        "X_train = np.asarray(X_train)\n",
        "y_train = np.asarray(y_train)"
      ],
      "execution_count": null,
      "outputs": []
    },
    {
      "cell_type": "code",
      "metadata": {
        "_cell_guid": "d7c350a4-6874-46b8-b699-4c27aa42dade",
        "_uuid": "975a023dc24a60832b3a670aecf2dbe3b9390183",
        "collapsed": true,
        "id": "O_FOdX1otYT_"
      },
      "source": [
        "#with all the test dataset to see if the model learn correctly\n",
        "df_test_all = df[150000:]\n",
        "\n",
        "X_test_all = df_test_all.drop(['Time', 'Class'],axis=1)\n",
        "y_test_all = df_test_all['Class']\n",
        "X_test_all = np.asarray(X_test_all)\n",
        "y_test_all = np.asarray(y_test_all)"
      ],
      "execution_count": null,
      "outputs": []
    },
    {
      "cell_type": "markdown",
      "metadata": {
        "_cell_guid": "c54c8f9f-9301-4a96-9c8b-1845946187ff",
        "_uuid": "a6896c291abc000d9d642fcc65bb93d45b118236",
        "id": "Wh9XlevXtYUG"
      },
      "source": [
        "# **Function of Confusion Matrix**"
      ]
    },
    {
      "cell_type": "code",
      "metadata": {
        "_cell_guid": "e298b2fd-6569-4e38-97b1-227a0960e4fe",
        "_uuid": "55d1987b1b3963fb9ca5fd1142faae095dfa338b",
        "collapsed": true,
        "id": "Q2OhzkR9tYUI"
      },
      "source": [
        "class_names=np.array(['0','1']) # Binary label"
      ],
      "execution_count": null,
      "outputs": []
    },
    {
      "cell_type": "code",
      "metadata": {
        "_cell_guid": "c57ed880-9e78-4620-9158-bfe626bf75f6",
        "_uuid": "a484397df965faf0e489e17a7e0b0ccf36c8bf84",
        "collapsed": true,
        "id": "yNEhwLuHtYUJ"
      },
      "source": [
        "def plot_confusion_matrix(cm, classes,\n",
        "                          title='Confusion matrix',\n",
        "                          cmap=plt.cm.Blues):\n",
        "    \n",
        "    plt.imshow(cm, interpolation='nearest', cmap=cmap)\n",
        "    plt.title(title)\n",
        "    plt.colorbar()\n",
        "    tick_marks = np.arange(len(classes))\n",
        "    plt.xticks(tick_marks, classes, rotation=45)\n",
        "    plt.yticks(tick_marks, classes)\n",
        "\n",
        "    fmt = 'd' \n",
        "    thresh = cm.max() / 2.\n",
        "    for i, j in itertools.product(range(cm.shape[0]), range(cm.shape[1])):\n",
        "        plt.text(j, i, format(cm[i, j], fmt),\n",
        "                 horizontalalignment=\"center\",\n",
        "                 color=\"white\" if cm[i, j] > thresh else \"black\")\n",
        "\n",
        "    plt.tight_layout()\n",
        "    plt.ylabel('True label')\n",
        "    plt.xlabel('Predicted label')"
      ],
      "execution_count": null,
      "outputs": []
    },
    {
      "cell_type": "markdown",
      "metadata": {
        "_cell_guid": "f7de7e6f-e51d-4e83-9d4e-6b0abdd2c726",
        "_uuid": "95ccdb3d1da9c590cb7b984f7f7a3151c316509c",
        "id": "le52ukKmtYUL"
      },
      "source": [
        "# **Applying the SVM**"
      ]
    },
    {
      "cell_type": "markdown",
      "metadata": {
        "_cell_guid": "08c5814b-f154-476b-a91b-09682911a7fc",
        "_uuid": "940007266bccc4c732bfe0d990e7307eddb53293",
        "scrolled": true,
        "id": "mj_kKTE5tYUM"
      },
      "source": [
        "We use the SVM model classifier from the scikit-learn library."
      ]
    },
    {
      "cell_type": "markdown",
      "metadata": {
        "id": "T_acELCEgIYc"
      },
      "source": [
        "#**Training the model**"
      ]
    },
    {
      "cell_type": "code",
      "metadata": {
        "_cell_guid": "1402594d-a2bf-4bef-a4b1-ffbada37e8b6",
        "_uuid": "54b464be3bacc3a8730ef22a44de83979a541952",
        "collapsed": true,
        "id": "piUegCfetYUO"
      },
      "source": [
        "classifier = svm.SVC(kernel='linear') "
      ],
      "execution_count": null,
      "outputs": []
    },
    {
      "cell_type": "code",
      "metadata": {
        "_cell_guid": "671a5ed5-1103-4dd7-b7ef-f4959320b9b8",
        "_uuid": "ae95b7f9abb4c55f97a7b0e844966d766acd14e1",
        "colab": {
          "base_uri": "https://localhost:8080/"
        },
        "id": "BCF8LoIOtYUP",
        "outputId": "7a9f14fb-4ca6-4af3-939d-067d2663f97b"
      },
      "source": [
        "classifier.fit(X_train, y_train)"
      ],
      "execution_count": null,
      "outputs": [
        {
          "output_type": "execute_result",
          "data": {
            "text/plain": [
              "SVC(C=1.0, break_ties=False, cache_size=200, class_weight=None, coef0=0.0,\n",
              "    decision_function_shape='ovr', degree=3, gamma='scale', kernel='linear',\n",
              "    max_iter=-1, probability=False, random_state=None, shrinking=True,\n",
              "    tol=0.001, verbose=False)"
            ]
          },
          "metadata": {
            "tags": []
          },
          "execution_count": 19
        }
      ]
    },
    {
      "cell_type": "code",
      "metadata": {
        "id": "2bCMEgQ07znh"
      },
      "source": [
        "prediction_SVM = classifier.predict(X_train)"
      ],
      "execution_count": null,
      "outputs": []
    },
    {
      "cell_type": "code",
      "metadata": {
        "colab": {
          "base_uri": "https://localhost:8080/",
          "height": 295
        },
        "id": "FkvPHrdD7h0q",
        "outputId": "f4cb070c-d9c5-41bc-da0d-3452b56c70d1"
      },
      "source": [
        "cm = confusion_matrix(y_train, prediction_SVM)\n",
        "plot_confusion_matrix(cm,class_names)"
      ],
      "execution_count": null,
      "outputs": [
        {
          "output_type": "display_data",
          "data": {
            "image/png": "[encoded data removed]",
            "text/plain": [
              "<Figure size 432x288 with 2 Axes>"
            ]
          },
          "metadata": {
            "tags": []
          }
        }
      ]
    },
    {
      "cell_type": "code",
      "metadata": {
        "colab": {
          "base_uri": "https://localhost:8080/"
        },
        "id": "a04awY_A8ae3",
        "outputId": "aeff3a44-eb26-4c2b-ed5f-1d56b2a668a7"
      },
      "source": [
        "print('We have detected {} frauds / {} total frauds.'.format(str(cm[1][1]),str(cm[1][1]+cm[1][0])))\n",
        "print('\\nSo, the probability to detect a fraud is {}'.format(str(cm[1][1]/(cm[1][1]+cm[1][0]))))\n",
        "print(\"the accuracy is : {}\".format(str((cm[0][0]+cm[1][1]) / (sum(cm[0]) + sum(cm[1])))))"
      ],
      "execution_count": null,
      "outputs": [
        {
          "output_type": "stream",
          "text": [
            "We have detected 277 frauds / 293 total frauds.\n",
            "\n",
            "So, the probability to detect a fraud is 0.9453924914675768\n",
            "the accuracy is : 0.9629005059021922\n"
          ],
          "name": "stdout"
        }
      ]
    },
    {
      "cell_type": "markdown",
      "metadata": {
        "_cell_guid": "33fd5429-184a-40ac-9b4f-cc66300eb75d",
        "_uuid": "06c6624cc3199d8c61aa462a1ac5daea1af5f044",
        "id": "czWhjNbDtYUR"
      },
      "source": [
        "# **Testing the model**"
      ]
    },
    {
      "cell_type": "code",
      "metadata": {
        "id": "NZNltQRx8f6y"
      },
      "source": [
        "classifier = svm.SVC(kernel='linear') "
      ],
      "execution_count": null,
      "outputs": []
    },
    {
      "cell_type": "code",
      "metadata": {
        "colab": {
          "base_uri": "https://localhost:8080/"
        },
        "id": "Us6rUIs39Ft7",
        "outputId": "8d4d4183-1724-487b-f1e8-577e0d7ff51f"
      },
      "source": [
        "classifier.fit(X_train,y_train)"
      ],
      "execution_count": null,
      "outputs": [
        {
          "output_type": "execute_result",
          "data": {
            "text/plain": [
              "SVC(C=1.0, break_ties=False, cache_size=200, class_weight=None, coef0=0.0,\n",
              "    decision_function_shape='ovr', degree=3, gamma='scale', kernel='linear',\n",
              "    max_iter=-1, probability=False, random_state=None, shrinking=True,\n",
              "    tol=0.001, verbose=False)"
            ]
          },
          "metadata": {
            "tags": []
          },
          "execution_count": 24
        }
      ]
    },
    {
      "cell_type": "code",
      "metadata": {
        "_cell_guid": "b7f42a0d-5dc2-482e-83dd-95be0b709fae",
        "_uuid": "06c4a00a2aeb9989135ef954ade5bf1dd750f8ce",
        "collapsed": true,
        "id": "LienxMeqtYUR"
      },
      "source": [
        "prediction_SVM_all = classifier.predict(X_test_all)"
      ],
      "execution_count": null,
      "outputs": []
    },
    {
      "cell_type": "code",
      "metadata": {
        "_cell_guid": "5558cbc6-e22c-4748-8640-35cd43358d1c",
        "_uuid": "cf58f6438e736b63903773caf38cd364a73178d4",
        "colab": {
          "base_uri": "https://localhost:8080/",
          "height": 295
        },
        "id": "bUd68SjytYUS",
        "outputId": "dbf7e744-d04c-4660-f4ce-3a171fd9b8c8"
      },
      "source": [
        "cm = confusion_matrix(y_test_all, prediction_SVM_all)\n",
        "plot_confusion_matrix(cm,class_names)"
      ],
      "execution_count": null,
      "outputs": [
        {
          "output_type": "display_data",
          "data": {
            "image/png": "[encoded data removed]",
            "text/plain": [
              "<Figure size 432x288 with 2 Axes>"
            ]
          },
          "metadata": {
            "tags": []
          }
        }
      ]
    },
    {
      "cell_type": "markdown",
      "metadata": {
        "_cell_guid": "fcc81707-fc91-4a66-945b-93fb7423dfcd",
        "_uuid": "9866599a18a5ff8286d8fac8ce2dd7213ae2d310",
        "id": "9zOPUOCctYUT"
      },
      "source": [
        "In this case we are gonna try to minimize the number of errors in our prediction results. Errors are on the anti-diagonal of the confusion matrix.  But we can infer that being wrong about an actual fraud is far worse than being wrong about a non-fraud transaction. "
      ]
    },
    {
      "cell_type": "code",
      "metadata": {
        "_cell_guid": "08447323-4ed7-4e29-a3c1-c86682ff63f0",
        "_uuid": "7c7bb0d2cfffdbdbe10df915a429c88e36a60957",
        "colab": {
          "base_uri": "https://localhost:8080/"
        },
        "id": "ExLSnQdGtYUW",
        "outputId": "ced884df-b744-444f-a802-47b26f518b60"
      },
      "source": [
        "print('We have detected {} frauds / {} total frauds.'.format(str(cm[1][1]),str(cm[1][1]+cm[1][0])))\n",
        "print('\\nSo, the probability to detect a fraud is {}'.format(str(cm[1][1]/(cm[1][1]+cm[1][0]))))\n",
        "print(\"the accuracy is : {}\".format(str((cm[0][0]+cm[1][1]) / (sum(cm[0]) + sum(cm[1])))))"
      ],
      "execution_count": null,
      "outputs": [
        {
          "output_type": "stream",
          "text": [
            "We have detected 183 frauds / 199 total frauds.\n",
            "\n",
            "So, the probability to detect a fraud is 0.9195979899497487\n",
            "the accuracy is : 0.9182683391811998\n"
          ],
          "name": "stdout"
        }
      ]
    },
    {
      "cell_type": "markdown",
      "metadata": {
        "_cell_guid": "66ca64cd-078d-4a1c-8ecd-d85a247ef5f3",
        "_uuid": "a38206000a28bcc2baf07d0d8e10f7eb1256f993",
        "id": "duk_oSY3tYUi"
      },
      "source": [
        "# **Re-balancing the class weights :**"
      ]
    },
    {
      "cell_type": "markdown",
      "metadata": {
        "_cell_guid": "10579138-58f9-41db-b5a7-25f6c4741900",
        "_uuid": "6cd3881e06f80ba87e4377c525572db1585e1c84",
        "id": "xLzKGiDAtYUj"
      },
      "source": [
        "In this previously used SVM model, the weigh of each class was the same, which means that missing a fraud is as bad as misjudging a non-fraud. The objective, for a bank, is to maximize the number of detected frauds! Even if it means considering more non-fraud tuple as fraudulent operation. \n",
        "\n",
        "Thus, we need to minimize the False positives i.e, the number of non detected frauds.\n",
        "\n",
        "Indeed, by modifying the class_weight parameter, we can chose which class to give more importance during the training phase. In this case, the class_1 which describes the fraudulent operations will be considered more important than the class_0 (non-fraud operation). However, in this case we will give more importance to the class_0 due to the large number of misclassed non-fraud operation. Of course the goal is to lose as little effective fraud as possible in the process.\n"
      ]
    },
    {
      "cell_type": "code",
      "metadata": {
        "_cell_guid": "33f60bc0-38c6-4ee7-a348-e2254bca727c",
        "_uuid": "5c36459b8b55ab20a57097d820f7f24a856c20f7",
        "collapsed": true,
        "id": "N5bDylbTtYUk"
      },
      "source": [
        "classifier_b = svm.SVC(kernel='linear',class_weight={0:0.60, 1:0.40})"
      ],
      "execution_count": null,
      "outputs": []
    },
    {
      "cell_type": "code",
      "metadata": {
        "_cell_guid": "07b6b2e3-4cd2-4202-b2a9-3d22edadf650",
        "_uuid": "4b29ebf3f9fd2e591498e747d453297ccc9d95f0",
        "colab": {
          "base_uri": "https://localhost:8080/"
        },
        "id": "lPdnlKTVtYUl",
        "outputId": "a6536710-8757-42d5-fce5-2b934003bc43"
      },
      "source": [
        "classifier_b.fit(X_train, y_train) # Then we train our model, with our balanced data train."
      ],
      "execution_count": null,
      "outputs": [
        {
          "output_type": "execute_result",
          "data": {
            "text/plain": [
              "SVC(C=1.0, break_ties=False, cache_size=200, class_weight={0: 0.6, 1: 0.4},\n",
              "    coef0=0.0, decision_function_shape='ovr', degree=3, gamma='scale',\n",
              "    kernel='linear', max_iter=-1, probability=False, random_state=None,\n",
              "    shrinking=True, tol=0.001, verbose=False)"
            ]
          },
          "metadata": {
            "tags": []
          },
          "execution_count": 29
        }
      ]
    },
    {
      "cell_type": "markdown",
      "metadata": {
        "_cell_guid": "711f7353-4f8d-494e-a2e3-e24c69da17a8",
        "_uuid": "f441734ba20be6e81ead1f4fb1196c09095cc4f6",
        "id": "pTJkRY7ftYUm"
      },
      "source": [
        "# **Re-Testing the model**"
      ]
    },
    {
      "cell_type": "code",
      "metadata": {
        "_cell_guid": "63406a9e-e7f7-4bbe-9945-55daf2c384a8",
        "_uuid": "c2b29f36198561711dd23cdef243bd7d9b41bce7",
        "collapsed": true,
        "id": "Cci5-LxZtYUn"
      },
      "source": [
        "prediction_SVM_b_all = classifier_b.predict(X_test_all) #We predict all the data set."
      ],
      "execution_count": null,
      "outputs": []
    },
    {
      "cell_type": "code",
      "metadata": {
        "_cell_guid": "42f417eb-5c5c-4d1d-af59-349d17d77f6f",
        "_uuid": "e462d0526a115a87d27f8a1c24bbb6fd3b9e9eeb",
        "colab": {
          "base_uri": "https://localhost:8080/",
          "height": 295
        },
        "id": "pc6tlIp9tYUo",
        "outputId": "ac14fb1c-3aba-4411-e54f-c34dc30ebfd6"
      },
      "source": [
        "cm = confusion_matrix(y_test_all, prediction_SVM_b_all)\n",
        "plot_confusion_matrix(cm,class_names)"
      ],
      "execution_count": null,
      "outputs": [
        {
          "output_type": "display_data",
          "data": {
            "image/png": "[encoded data removed]",
            "text/plain": [
              "<Figure size 432x288 with 2 Axes>"
            ]
          },
          "metadata": {
            "tags": []
          }
        }
      ]
    },
    {
      "cell_type": "code",
      "metadata": {
        "_cell_guid": "d03a28ad-b9e1-4c2c-bed2-06308b1816cf",
        "_uuid": "3d674db8f4eeb8ed4a8583e3d5cd40f8561ae33d",
        "colab": {
          "base_uri": "https://localhost:8080/"
        },
        "id": "jwroWZ71tYUr",
        "outputId": "4653ad06-83e0-4726-93f4-26a1241c8e16"
      },
      "source": [
        "print('We have detected {} frauds / {} total frauds.'.format((cm[1][1]) ,(cm[1][1]+cm[1][0])))\n",
        "print('Probability to detect a fraud is {}'.format(cm[1][1]/(cm[1][1]+cm[1][0])))\n",
        "print(\"the accuracy is : {} \".format((cm[0][0]+cm[1][1]) / (sum(cm[0]) + sum(cm[1]))))"
      ],
      "execution_count": null,
      "outputs": [
        {
          "output_type": "stream",
          "text": [
            "We have detected 181 frauds / 199 total frauds.\n",
            "Probability to detect a fraud is 0.9095477386934674\n",
            "the accuracy is : 0.9594383080997277 \n"
          ],
          "name": "stdout"
        }
      ]
    },
    {
      "cell_type": "markdown",
      "metadata": {
        "id": "ZOh1g2AQwvz8"
      },
      "source": [
        "# **Changing the Kernel**\n",
        "\n",
        "The SVM basically works in different kernels which are designed for different type of data distribution. By data distribution I mean how the data points are scattered along the hyperplane. \n",
        "\n",
        "In other words, one can say that different kernels enables the SVM model to use different type of hyperplane on the dataset.\n",
        "\n",
        "Thus, some of them are used below and the kernel which results in the minium error in the confusion matrix will be the bebst suited SVM kernel on the dataset. Hence, enabling the SVM algorithm to put it's best performance on the dataset."
      ]
    },
    {
      "cell_type": "markdown",
      "metadata": {
        "id": "y9u4BB4e4UZA"
      },
      "source": [
        "## **Polynomial Kernel**"
      ]
    },
    {
      "cell_type": "code",
      "metadata": {
        "id": "gNZbk6mDwvaf"
      },
      "source": [
        "classifier_b = svm.SVC(kernel='poly',class_weight={0:0.60, 1:0.40})"
      ],
      "execution_count": null,
      "outputs": []
    },
    {
      "cell_type": "code",
      "metadata": {
        "colab": {
          "base_uri": "https://localhost:8080/"
        },
        "id": "ov4hiwDg3n56",
        "outputId": "5e5ba98c-6a82-4099-bb08-3b8e2d71fd55"
      },
      "source": [
        "classifier_b.fit(X_train, y_train)"
      ],
      "execution_count": null,
      "outputs": [
        {
          "output_type": "execute_result",
          "data": {
            "text/plain": [
              "SVC(C=1.0, break_ties=False, cache_size=200, class_weight={0: 0.6, 1: 0.4},\n",
              "    coef0=0.0, decision_function_shape='ovr', degree=3, gamma='scale',\n",
              "    kernel='poly', max_iter=-1, probability=False, random_state=None,\n",
              "    shrinking=True, tol=0.001, verbose=False)"
            ]
          },
          "metadata": {
            "tags": []
          },
          "execution_count": 34
        }
      ]
    },
    {
      "cell_type": "code",
      "metadata": {
        "id": "pRjbtibS38E2"
      },
      "source": [
        "prediction_SVM_b_all = classifier_b.predict(X_test_all) "
      ],
      "execution_count": null,
      "outputs": []
    },
    {
      "cell_type": "code",
      "metadata": {
        "colab": {
          "base_uri": "https://localhost:8080/",
          "height": 295
        },
        "id": "xZ5iUOV-3_tr",
        "outputId": "6f176c4e-2884-469d-97f4-70d99a926c8f"
      },
      "source": [
        "cm = confusion_matrix(y_test_all, prediction_SVM_b_all)\n",
        "plot_confusion_matrix(cm,class_names)"
      ],
      "execution_count": null,
      "outputs": [
        {
          "output_type": "display_data",
          "data": {
            "image/png": "[encoded data removed]",
            "text/plain": [
              "<Figure size 432x288 with 2 Axes>"
            ]
          },
          "metadata": {
            "tags": []
          }
        }
      ]
    },
    {
      "cell_type": "code",
      "metadata": {
        "colab": {
          "base_uri": "https://localhost:8080/"
        },
        "id": "xtVcimDJ4Ir-",
        "outputId": "4fcf6762-089b-48a3-ea0e-d28b60d013f0"
      },
      "source": [
        "print('We have detected {} frauds / {} total frauds.'.format((cm[1][1]) ,(cm[1][1]+cm[1][0])))\n",
        "print('Probability to detect a fraud is {}'.format(cm[1][1]/(cm[1][1]+cm[1][0])))\n",
        "print(\"the accuracy is : {} \".format((cm[0][0]+cm[1][1]) / (sum(cm[0]) + sum(cm[1]))))"
      ],
      "execution_count": null,
      "outputs": [
        {
          "output_type": "stream",
          "text": [
            "We have detected 10 frauds / 199 total frauds.\n",
            "Probability to detect a fraud is 0.05025125628140704\n",
            "the accuracy is : 0.997900702485776 \n"
          ],
          "name": "stdout"
        }
      ]
    },
    {
      "cell_type": "markdown",
      "metadata": {
        "id": "K0lk86Ax4XK1"
      },
      "source": [
        "## **RBF(Radial basis function) Kernel**"
      ]
    },
    {
      "cell_type": "code",
      "metadata": {
        "id": "g6bYjZdK4MYK"
      },
      "source": [
        "classifier_b = svm.SVC(kernel='rbf',class_weight={0:0.60, 1:0.40})"
      ],
      "execution_count": null,
      "outputs": []
    },
    {
      "cell_type": "code",
      "metadata": {
        "colab": {
          "base_uri": "https://localhost:8080/"
        },
        "id": "H9ZuMsjg5KP9",
        "outputId": "34311882-8c0c-444e-ea23-f7cc97ae3ffc"
      },
      "source": [
        "classifier_b.fit(X_train, y_train) # Then we train our model, with our balanced data train."
      ],
      "execution_count": null,
      "outputs": [
        {
          "output_type": "execute_result",
          "data": {
            "text/plain": [
              "SVC(C=1.0, break_ties=False, cache_size=200, class_weight={0: 0.6, 1: 0.4},\n",
              "    coef0=0.0, decision_function_shape='ovr', degree=3, gamma='scale',\n",
              "    kernel='rbf', max_iter=-1, probability=False, random_state=None,\n",
              "    shrinking=True, tol=0.001, verbose=False)"
            ]
          },
          "metadata": {
            "tags": []
          },
          "execution_count": 39
        }
      ]
    },
    {
      "cell_type": "code",
      "metadata": {
        "id": "6k35yupK5MsJ"
      },
      "source": [
        "prediction_SVM_b_all = classifier_b.predict(X_test_all) #We predict all the data set."
      ],
      "execution_count": null,
      "outputs": []
    },
    {
      "cell_type": "code",
      "metadata": {
        "colab": {
          "base_uri": "https://localhost:8080/",
          "height": 295
        },
        "id": "Ha0lYNxI6I3-",
        "outputId": "7611e223-e9d7-4e9a-b74d-2b0700b67048"
      },
      "source": [
        "cm = confusion_matrix(y_test_all, prediction_SVM_b_all)\n",
        "plot_confusion_matrix(cm,class_names)"
      ],
      "execution_count": null,
      "outputs": [
        {
          "output_type": "display_data",
          "data": {
            "image/png": "[encoded data removed]",
            "text/plain": [
              "<Figure size 432x288 with 2 Axes>"
            ]
          },
          "metadata": {
            "tags": []
          }
        }
      ]
    },
    {
      "cell_type": "code",
      "metadata": {
        "colab": {
          "base_uri": "https://localhost:8080/"
        },
        "id": "F5lwEGhU6Ou5",
        "outputId": "8ecfaaca-4156-4d8e-d641-797e3850aa29"
      },
      "source": [
        "print('We have detected {} frauds / {} total frauds.'.format((cm[1][1]) ,(cm[1][1]+cm[1][0])))\n",
        "print('Probability to detect a fraud is {}'.format(cm[1][1]/(cm[1][1]+cm[1][0])))\n",
        "print(\"the accuracy is : {} \".format((cm[0][0]+cm[1][1]) / (sum(cm[0]) + sum(cm[1]))))"
      ],
      "execution_count": null,
      "outputs": [
        {
          "output_type": "stream",
          "text": [
            "We have detected 58 frauds / 199 total frauds.\n",
            "Probability to detect a fraud is 0.2914572864321608\n",
            "the accuracy is : 0.9738366702025859 \n"
          ],
          "name": "stdout"
        }
      ]
    },
    {
      "cell_type": "markdown",
      "metadata": {
        "id": "pisE0-jx6Tiz"
      },
      "source": [
        "## **Sigmoid Kernel**"
      ]
    },
    {
      "cell_type": "code",
      "metadata": {
        "id": "zz6wZ1t56bMK"
      },
      "source": [
        "classifier_b = svm.SVC(kernel='sigmoid',class_weight={0:0.60, 1:0.40})"
      ],
      "execution_count": null,
      "outputs": []
    },
    {
      "cell_type": "code",
      "metadata": {
        "colab": {
          "base_uri": "https://localhost:8080/"
        },
        "id": "kIT9Aj-n6dn9",
        "outputId": "46068066-98e4-4ce3-9bef-4594890e8fcb"
      },
      "source": [
        "classifier_b.fit(X_train, y_train) # Then we train our model, with our balanced data train."
      ],
      "execution_count": null,
      "outputs": [
        {
          "output_type": "execute_result",
          "data": {
            "text/plain": [
              "SVC(C=1.0, break_ties=False, cache_size=200, class_weight={0: 0.6, 1: 0.4},\n",
              "    coef0=0.0, decision_function_shape='ovr', degree=3, gamma='scale',\n",
              "    kernel='sigmoid', max_iter=-1, probability=False, random_state=None,\n",
              "    shrinking=True, tol=0.001, verbose=False)"
            ]
          },
          "metadata": {
            "tags": []
          },
          "execution_count": 44
        }
      ]
    },
    {
      "cell_type": "code",
      "metadata": {
        "id": "C6ldszXx6f48"
      },
      "source": [
        "prediction_SVM_b_all = classifier_b.predict(X_test_all) #We predict all the data set."
      ],
      "execution_count": null,
      "outputs": []
    },
    {
      "cell_type": "code",
      "metadata": {
        "colab": {
          "base_uri": "https://localhost:8080/",
          "height": 295
        },
        "id": "boViWv0x6h4z",
        "outputId": "e7657212-c177-4be4-d518-00b245ba0243"
      },
      "source": [
        "cm = confusion_matrix(y_test_all, prediction_SVM_b_all)\n",
        "plot_confusion_matrix(cm,class_names)"
      ],
      "execution_count": null,
      "outputs": [
        {
          "output_type": "display_data",
          "data": {
            "image/png": "[encoded data removed]",
            "text/plain": [
              "<Figure size 432x288 with 2 Axes>"
            ]
          },
          "metadata": {
            "tags": []
          }
        }
      ]
    },
    {
      "cell_type": "code",
      "metadata": {
        "colab": {
          "base_uri": "https://localhost:8080/"
        },
        "id": "XPK5-Twu6noq",
        "outputId": "59cc0574-416f-4bc8-ce91-39682e9ce0da"
      },
      "source": [
        "print('We have detected {} frauds / {} total frauds.'.format((cm[1][1]) ,(cm[1][1]+cm[1][0])))\n",
        "print('Probability to detect a fraud is {}'.format(cm[1][1]/(cm[1][1]+cm[1][0])))\n",
        "print(\"the accuracy is : {} \".format((cm[0][0]+cm[1][1]) / (sum(cm[0]) + sum(cm[1]))))"
      ],
      "execution_count": null,
      "outputs": [
        {
          "output_type": "stream",
          "text": [
            "We have detected 51 frauds / 199 total frauds.\n",
            "Probability to detect a fraud is 0.2562814070351759\n",
            "the accuracy is : 0.6675098474114846 \n"
          ],
          "name": "stdout"
        }
      ]
    },
    {
      "cell_type": "markdown",
      "metadata": {
        "id": "XlqgZO69CxwV"
      },
      "source": [
        "Hence, the observation is very clear as the polynomial kernel resulted in the highest accuracy amongst all the three kernels."
      ]
    },
    {
      "cell_type": "markdown",
      "metadata": {
        "id": "9YGGdsN8M2bq"
      },
      "source": [
        "## **Precision, Recall, F1-Score, Mean Absolute Error, Mean Percentage Error and Mean Squared Error**"
      ]
    },
    {
      "cell_type": "code",
      "metadata": {
        "colab": {
          "base_uri": "https://localhost:8080/"
        },
        "id": "Zd-aYNt0Bm5Y",
        "outputId": "ccaeed7a-2b4a-4210-8c0b-1beca7de118c"
      },
      "source": [
        "from sklearn.metrics import classification_report,mean_absolute_error,mean_squared_error\n",
        "report= classification_report(y_test_all, prediction_SVM_b_all)\n",
        "print(report)"
      ],
      "execution_count": null,
      "outputs": [
        {
          "output_type": "stream",
          "text": [
            "              precision    recall  f1-score   support\n",
            "\n",
            "           0       1.00      0.67      0.80    134608\n",
            "           1       0.00      0.26      0.00       199\n",
            "\n",
            "    accuracy                           0.67    134807\n",
            "   macro avg       0.50      0.46      0.40    134807\n",
            "weighted avg       1.00      0.67      0.80    134807\n",
            "\n"
          ],
          "name": "stdout"
        }
      ]
    },
    {
      "cell_type": "code",
      "metadata": {
        "colab": {
          "base_uri": "https://localhost:8080/"
        },
        "id": "ln-nCOl0Bg-K",
        "outputId": "51b4a6a5-54ba-4960-b126-359a5c61ecdd"
      },
      "source": [
        "mean_abs_error = mean_absolute_error(y_test_all,prediction_SVM_b_all)\n",
        "mean_abs_percentage_error = np.mean(np.abs((y_test_all - prediction_SVM_b_all) // y_test_all))\n",
        "mse= mean_squared_error(y_test_all,prediction_SVM_b_all)\n",
        "print(\"Mean absolute error : {} \\nMean Absolute Percentage error : {}\\nMean Squared Error : {}\".format(mean_abs_error,mean_abs_percentage_error,mse))"
      ],
      "execution_count": null,
      "outputs": [
        {
          "output_type": "stream",
          "text": [
            "Mean absolute error : 0.33249015258851544 \n",
            "Mean Absolute Percentage error : 0.0010978658378274124\n",
            "Mean Squared Error : 0.33249015258851544\n"
          ],
          "name": "stdout"
        },
        {
          "output_type": "stream",
          "text": [
            "/usr/local/lib/python3.7/dist-packages/ipykernel_launcher.py:2: RuntimeWarning: divide by zero encountered in floor_divide\n",
            "  \n"
          ],
          "name": "stderr"
        }
      ]
    }
  ]
}